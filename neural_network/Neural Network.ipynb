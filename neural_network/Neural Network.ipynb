{
 "cells": [
  {
   "cell_type": "markdown",
   "metadata": {},
   "source": [
    "# Нейронные сети\n",
    "\n"
   ]
  },
  {
   "cell_type": "code",
   "execution_count": 35,
   "metadata": {},
   "outputs": [
    {
     "name": "stdout",
     "output_type": "stream",
     "text": [
      "The autoreload extension is already loaded. To reload it, use:\n",
      "  %reload_ext autoreload\n"
     ]
    }
   ],
   "source": [
    "import wget \n",
    "import os\n",
    "import numpy as np\n",
    "import matplotlib.pyplot as plt\n",
    "\n",
    "%matplotlib inline\n",
    "\n",
    "%load_ext autoreload\n",
    "%autoreload 2"
   ]
  },
  {
   "cell_type": "code",
   "execution_count": 2,
   "metadata": {},
   "outputs": [],
   "source": [
    "from dataset import load_svhn, random_split_train_val\n",
    "from gradient_check import check_layer_gradient, check_layer_param_gradient, check_model_gradient\n",
    "from layers import FullyConnectedLayer, ReLULayer\n",
    "from model import TwoLayerNet\n",
    "from trainer import Trainer, Dataset\n",
    "from optim import SGD, MomentumSGD\n",
    "from metrics import multiclass_accuracy"
   ]
  },
  {
   "cell_type": "markdown",
   "metadata": {},
   "source": [
    "# Загружаем данные\n",
    "\n",
    "И разделяем их на training и validation."
   ]
  },
  {
   "cell_type": "code",
   "execution_count": 36,
   "metadata": {},
   "outputs": [],
   "source": [
    "directory = 'data'\n",
    "url = 'http://ufldl.stanford.edu/housenumbers/train_32x32.mat'\n",
    "filename = wget.download(url)\n",
    "os.rename(filename,os.path.join(directory,filename))"
   ]
  },
  {
   "cell_type": "code",
   "execution_count": 37,
   "metadata": {},
   "outputs": [],
   "source": [
    "directory = 'data'\n",
    "url2 = 'http://ufldl.stanford.edu/housenumbers/test_32x32.mat'\n",
    "filename2 = wget.download(url2)\n",
    "os.rename(filename2,os.path.join(directory,filename2))"
   ]
  },
  {
   "cell_type": "code",
   "execution_count": 3,
   "metadata": {},
   "outputs": [],
   "source": [
    "def prepare_for_neural_network(train_X, test_X):\n",
    "    train_flat = train_X.reshape(train_X.shape[0], -1).astype(np.float) / 255.0\n",
    "    test_flat = test_X.reshape(test_X.shape[0], -1).astype(np.float) / 255.0\n",
    "    \n",
    "    # Subtract mean\n",
    "    mean_image = np.mean(train_flat, axis = 0)\n",
    "    train_flat -= mean_image\n",
    "    test_flat -= mean_image\n",
    "    \n",
    "    return train_flat, test_flat\n",
    "    \n",
    "train_X, train_y, test_X, test_y = load_svhn(\"data\", max_train=10000, max_test=1000)    \n",
    "train_X, test_X = prepare_for_neural_network(train_X, test_X)\n",
    "# Split train into train and val\n",
    "train_X, train_y, val_X, val_y = random_split_train_val(train_X, train_y, num_val = 1000)"
   ]
  },
  {
   "cell_type": "markdown",
   "metadata": {},
   "source": [
    "### ReLU"
   ]
  },
  {
   "cell_type": "code",
   "execution_count": 10,
   "metadata": {
    "scrolled": false
   },
   "outputs": [
    {
     "name": "stdout",
     "output_type": "stream",
     "text": [
      "Gradient check passed!\n"
     ]
    }
   ],
   "source": [
    "X = np.array([[1,-2,3],\n",
    "              [-1, 2, 0.1]\n",
    "              ])\n",
    "\n",
    "assert check_layer_gradient(ReLULayer(), X) #layers.py/gradient_check.py"
   ]
  },
  {
   "cell_type": "markdown",
   "metadata": {},
   "source": [
    "### Fully connected layer "
   ]
  },
  {
   "cell_type": "code",
   "execution_count": 11,
   "metadata": {},
   "outputs": [
    {
     "name": "stdout",
     "output_type": "stream",
     "text": [
      "Gradient check passed!\n",
      "Gradient check passed!\n",
      "Gradient check passed!\n"
     ]
    }
   ],
   "source": [
    "assert check_layer_gradient(FullyConnectedLayer(3, 4), X)\n",
    "assert check_layer_param_gradient(FullyConnectedLayer(3, 4), X, 'W')\n",
    "assert check_layer_param_gradient(FullyConnectedLayer(3, 4), X, 'B') \n",
    "#layers.py/gradient_check.py"
   ]
  },
  {
   "cell_type": "markdown",
   "metadata": {},
   "source": [
    "# Нейронная сеть"
   ]
  },
  {
   "cell_type": "code",
   "execution_count": 14,
   "metadata": {},
   "outputs": [
    {
     "name": "stdout",
     "output_type": "stream",
     "text": [
      "Checking gradient for W1\n",
      "Gradient check passed!\n",
      "Checking gradient for B1\n",
      "Gradient check passed!\n",
      "Checking gradient for W2\n",
      "Gradient check passed!\n",
      "Checking gradient for B2\n",
      "Gradient check passed!\n"
     ]
    },
    {
     "data": {
      "text/plain": [
       "True"
      ]
     },
     "execution_count": 14,
     "metadata": {},
     "output_type": "execute_result"
    }
   ],
   "source": [
    "model = TwoLayerNet(n_input = train_X.shape[1], n_output = 10, hidden_layer_size = 3, reg = 0)\n",
    "loss = model.compute_loss_and_gradients(train_X[:2], train_y[:2])\n",
    "\n",
    "\n",
    "check_model_gradient(model, train_X[:2], train_y[:2])\n",
    "#model.py/gradient_check.py"
   ]
  },
  {
   "cell_type": "markdown",
   "metadata": {},
   "source": [
    "## Регуляризация"
   ]
  },
  {
   "cell_type": "code",
   "execution_count": 17,
   "metadata": {},
   "outputs": [
    {
     "name": "stdout",
     "output_type": "stream",
     "text": [
      "Checking gradient for W1\n",
      "Gradient check passed!\n",
      "Checking gradient for B1\n",
      "Gradient check passed!\n",
      "Checking gradient for W2\n",
      "Gradient check passed!\n",
      "Checking gradient for B2\n",
      "Gradient check passed!\n"
     ]
    },
    {
     "data": {
      "text/plain": [
       "True"
      ]
     },
     "execution_count": 17,
     "metadata": {},
     "output_type": "execute_result"
    }
   ],
   "source": [
    "model_with_reg = TwoLayerNet(n_input = train_X.shape[1], n_output = 10, hidden_layer_size = 3, reg = 1e1)\n",
    "loss_with_reg = model_with_reg.compute_loss_and_gradients(train_X[:2], train_y[:2])\n",
    "assert loss_with_reg > loss and not np.isclose(loss_with_reg, loss), \\\n",
    "    \"Loss with regularization (%2.4f) should be higher than without it (%2.4f)!\" % (loss, loss_with_reg)\n",
    "\n",
    "check_model_gradient(model_with_reg, train_X[:2], train_y[:2])\n",
    "#layers.py/gradient_check.py"
   ]
  },
  {
   "cell_type": "markdown",
   "metadata": {},
   "source": [
    "## Score"
   ]
  },
  {
   "cell_type": "code",
   "execution_count": 19,
   "metadata": {},
   "outputs": [
    {
     "data": {
      "text/plain": [
       "0.1"
      ]
     },
     "execution_count": 19,
     "metadata": {},
     "output_type": "execute_result"
    }
   ],
   "source": [
    "# Finally, implement predict function!\n",
    "\n",
    "multiclass_accuracy(model_with_reg.predict(train_X[:30]), train_y[:30])\n",
    "\n",
    "#model.py/metrics.py"
   ]
  },
  {
   "cell_type": "markdown",
   "metadata": {},
   "source": [
    "### Обучение модели"
   ]
  },
  {
   "cell_type": "code",
   "execution_count": 21,
   "metadata": {},
   "outputs": [
    {
     "name": "stdout",
     "output_type": "stream",
     "text": [
      "Loss: 2.302705, Train accuracy: 0.148222, val accuracy: 0.140000\n",
      "Loss: 2.300511, Train accuracy: 0.196667, val accuracy: 0.206000\n",
      "Loss: 2.302339, Train accuracy: 0.196667, val accuracy: 0.206000\n",
      "Loss: 2.301916, Train accuracy: 0.196667, val accuracy: 0.206000\n",
      "Loss: 2.301577, Train accuracy: 0.196667, val accuracy: 0.206000\n",
      "Loss: 2.301789, Train accuracy: 0.196667, val accuracy: 0.206000\n",
      "Loss: 2.302126, Train accuracy: 0.196667, val accuracy: 0.206000\n",
      "Loss: 2.303472, Train accuracy: 0.196667, val accuracy: 0.206000\n",
      "Loss: 2.302398, Train accuracy: 0.196667, val accuracy: 0.206000\n",
      "Loss: 2.302306, Train accuracy: 0.196667, val accuracy: 0.206000\n",
      "Loss: 2.303106, Train accuracy: 0.196667, val accuracy: 0.206000\n",
      "Loss: 2.303577, Train accuracy: 0.196667, val accuracy: 0.206000\n",
      "Loss: 2.302208, Train accuracy: 0.196667, val accuracy: 0.206000\n",
      "Loss: 2.301911, Train accuracy: 0.196667, val accuracy: 0.206000\n",
      "Loss: 2.301847, Train accuracy: 0.196667, val accuracy: 0.206000\n",
      "Loss: 2.302920, Train accuracy: 0.196667, val accuracy: 0.206000\n",
      "Loss: 2.302702, Train accuracy: 0.196667, val accuracy: 0.206000\n",
      "Loss: 2.302818, Train accuracy: 0.196667, val accuracy: 0.206000\n",
      "Loss: 2.303235, Train accuracy: 0.196667, val accuracy: 0.206000\n",
      "Loss: 2.302186, Train accuracy: 0.196667, val accuracy: 0.206000\n"
     ]
    }
   ],
   "source": [
    "model = TwoLayerNet(n_input = train_X.shape[1], n_output = 10, hidden_layer_size = 100, reg = 1e1)\n",
    "dataset = Dataset(train_X, train_y, val_X, val_y)\n",
    "trainer = Trainer(model, dataset, SGD(), learning_rate = 1e-2)\n",
    "\n",
    "loss_history, train_history, val_history = trainer.fit()\n",
    "\n",
    "#model.py/metrics.py/optim.py"
   ]
  },
  {
   "cell_type": "code",
   "execution_count": 22,
   "metadata": {},
   "outputs": [
    {
     "data": {
      "text/plain": [
       "[<matplotlib.lines.Line2D at 0x7faaa6f5d090>]"
      ]
     },
     "execution_count": 22,
     "metadata": {},
     "output_type": "execute_result"
    },
    {
     "data": {
      "image/png": "[encoded data removed]",
      "text/plain": [
       "<Figure size 432x288 with 1 Axes>"
      ]
     },
     "metadata": {
      "needs_background": "light"
     },
     "output_type": "display_data"
    }
   ],
   "source": [
    "plt.plot(train_history)\n",
    "plt.plot(val_history)"
   ]
  },
  {
   "cell_type": "markdown",
   "metadata": {},
   "source": [
    "# Улучшением процесса тренировки"
   ]
  },
  {
   "cell_type": "markdown",
   "metadata": {},
   "source": [
    "## Уменьшение скорости обучения (learning rate decay)"
   ]
  },
  {
   "cell_type": "code",
   "execution_count": 24,
   "metadata": {},
   "outputs": [
    {
     "name": "stdout",
     "output_type": "stream",
     "text": [
      "Loss: 2.282026, Train accuracy: 0.196667, val accuracy: 0.206000\n",
      "Loss: 2.220804, Train accuracy: 0.196667, val accuracy: 0.206000\n",
      "Loss: 2.304563, Train accuracy: 0.196667, val accuracy: 0.206000\n",
      "Loss: 2.332779, Train accuracy: 0.196667, val accuracy: 0.206000\n",
      "Loss: 2.265433, Train accuracy: 0.196667, val accuracy: 0.206000\n",
      "Loss: 2.290160, Train accuracy: 0.196667, val accuracy: 0.206000\n",
      "Loss: 2.281397, Train accuracy: 0.196667, val accuracy: 0.206000\n",
      "Loss: 2.271683, Train accuracy: 0.196667, val accuracy: 0.206000\n",
      "Loss: 2.277032, Train accuracy: 0.196667, val accuracy: 0.206000\n",
      "Loss: 2.283777, Train accuracy: 0.196667, val accuracy: 0.206000\n",
      "Loss: 2.167511, Train accuracy: 0.196667, val accuracy: 0.206000\n",
      "Loss: 2.272940, Train accuracy: 0.196667, val accuracy: 0.206000\n",
      "Loss: 2.312080, Train accuracy: 0.196667, val accuracy: 0.206000\n",
      "Loss: 2.292346, Train accuracy: 0.196667, val accuracy: 0.206000\n",
      "Loss: 2.305281, Train accuracy: 0.196667, val accuracy: 0.206000\n",
      "Loss: 2.282768, Train accuracy: 0.196667, val accuracy: 0.206000\n",
      "Loss: 2.226888, Train accuracy: 0.196667, val accuracy: 0.206000\n",
      "Loss: 2.273944, Train accuracy: 0.196667, val accuracy: 0.206000\n",
      "Loss: 2.278723, Train accuracy: 0.196667, val accuracy: 0.206000\n",
      "Loss: 2.285273, Train accuracy: 0.196667, val accuracy: 0.206000\n"
     ]
    }
   ],
   "source": [
    "# Decay should happen once per epoch\n",
    "\n",
    "model = TwoLayerNet(n_input = train_X.shape[1], n_output = 10, hidden_layer_size = 100, reg = 1e-1)\n",
    "dataset = Dataset(train_X, train_y, val_X, val_y)\n",
    "trainer = Trainer(model, dataset, SGD(), learning_rate_decay=0.99)\n",
    "\n",
    "initial_learning_rate = trainer.learning_rate\n",
    "loss_history, train_history, val_history = trainer.fit()\n",
    "\n",
    "assert trainer.learning_rate < initial_learning_rate, \"Learning rate should've been reduced\"\n",
    "assert trainer.learning_rate > 0.5*initial_learning_rate, \"Learning rate shouldn'tve been reduced that much!\"\n",
    "\n",
    "#model.py/metrics.py/optim.py"
   ]
  },
  {
   "cell_type": "markdown",
   "metadata": {},
   "source": [
    "# Накопление импульса (Momentum SGD)\n",
    "\n",
    "```\n",
    "velocity = momentum * velocity - learning_rate * gradient \n",
    "w = w + velocity\n",
    "```"
   ]
  },
  {
   "cell_type": "code",
   "execution_count": 27,
   "metadata": {},
   "outputs": [
    {
     "name": "stdout",
     "output_type": "stream",
     "text": [
      "Loss: 2.318773, Train accuracy: 0.196667, val accuracy: 0.206000\n",
      "Loss: 2.300463, Train accuracy: 0.196667, val accuracy: 0.206000\n",
      "Loss: 2.307396, Train accuracy: 0.196667, val accuracy: 0.206000\n",
      "Loss: 2.284003, Train accuracy: 0.196667, val accuracy: 0.206000\n",
      "Loss: 2.312351, Train accuracy: 0.196667, val accuracy: 0.206000\n",
      "Loss: 2.301691, Train accuracy: 0.196667, val accuracy: 0.206000\n",
      "Loss: 2.307653, Train accuracy: 0.196667, val accuracy: 0.206000\n",
      "Loss: 2.309887, Train accuracy: 0.196667, val accuracy: 0.206000\n",
      "Loss: 2.278664, Train accuracy: 0.196667, val accuracy: 0.206000\n",
      "Loss: 2.283250, Train accuracy: 0.196667, val accuracy: 0.206000\n",
      "Loss: 2.285759, Train accuracy: 0.196667, val accuracy: 0.206000\n",
      "Loss: 2.297113, Train accuracy: 0.196667, val accuracy: 0.206000\n",
      "Loss: 2.300555, Train accuracy: 0.196667, val accuracy: 0.206000\n",
      "Loss: 2.279871, Train accuracy: 0.196667, val accuracy: 0.206000\n",
      "Loss: 2.297075, Train accuracy: 0.196667, val accuracy: 0.206000\n",
      "Loss: 2.293508, Train accuracy: 0.196667, val accuracy: 0.206000\n",
      "Loss: 2.238663, Train accuracy: 0.196667, val accuracy: 0.206000\n",
      "Loss: 2.259315, Train accuracy: 0.196667, val accuracy: 0.206000\n",
      "Loss: 2.266430, Train accuracy: 0.196667, val accuracy: 0.206000\n",
      "Loss: 2.309123, Train accuracy: 0.196667, val accuracy: 0.206000\n"
     ]
    }
   ],
   "source": [
    "model = TwoLayerNet(n_input = train_X.shape[1], n_output = 10, hidden_layer_size = 100, reg = 1e-1)\n",
    "dataset = Dataset(train_X, train_y, val_X, val_y)\n",
    "trainer = Trainer(model, dataset, MomentumSGD(), learning_rate=1e-4, learning_rate_decay=0.99)\n",
    "\n",
    "# You should see even better results than before!\n",
    "loss_history, train_history, val_history = trainer.fit()\n",
    "\n",
    "#model.py/metrics.py/optim.py"
   ]
  },
  {
   "cell_type": "markdown",
   "metadata": {},
   "source": [
    "## Overfit на маленьком наборе данных"
   ]
  },
  {
   "cell_type": "code",
   "execution_count": 28,
   "metadata": {},
   "outputs": [
    {
     "name": "stdout",
     "output_type": "stream",
     "text": [
      "Loss: 2.331225, Train accuracy: 0.200000, val accuracy: 0.066667\n",
      "Loss: 2.311917, Train accuracy: 0.266667, val accuracy: 0.066667\n",
      "Loss: 2.309711, Train accuracy: 0.333333, val accuracy: 0.066667\n",
      "Loss: 2.302350, Train accuracy: 0.200000, val accuracy: 0.066667\n",
      "Loss: 2.290718, Train accuracy: 0.266667, val accuracy: 0.000000\n",
      "Loss: 2.265667, Train accuracy: 0.266667, val accuracy: 0.000000\n",
      "Loss: 2.180181, Train accuracy: 0.266667, val accuracy: 0.000000\n",
      "Loss: 2.265704, Train accuracy: 0.266667, val accuracy: 0.000000\n",
      "Loss: 2.124721, Train accuracy: 0.333333, val accuracy: 0.000000\n",
      "Loss: 1.935802, Train accuracy: 0.400000, val accuracy: 0.000000\n",
      "Loss: 1.895935, Train accuracy: 0.400000, val accuracy: 0.000000\n",
      "Loss: 2.163137, Train accuracy: 0.400000, val accuracy: 0.000000\n",
      "Loss: 1.727986, Train accuracy: 0.400000, val accuracy: 0.000000\n",
      "Loss: 1.797636, Train accuracy: 0.333333, val accuracy: 0.000000\n",
      "Loss: 1.336883, Train accuracy: 0.333333, val accuracy: 0.000000\n",
      "Loss: 2.329628, Train accuracy: 0.400000, val accuracy: 0.000000\n",
      "Loss: 1.978731, Train accuracy: 0.333333, val accuracy: 0.000000\n",
      "Loss: 2.106089, Train accuracy: 0.400000, val accuracy: 0.000000\n",
      "Loss: 1.946395, Train accuracy: 0.400000, val accuracy: 0.000000\n",
      "Loss: 2.161467, Train accuracy: 0.400000, val accuracy: 0.066667\n",
      "Loss: 2.075284, Train accuracy: 0.400000, val accuracy: 0.066667\n",
      "Loss: 1.805114, Train accuracy: 0.400000, val accuracy: 0.000000\n",
      "Loss: 1.584728, Train accuracy: 0.400000, val accuracy: 0.000000\n",
      "Loss: 1.804348, Train accuracy: 0.400000, val accuracy: 0.066667\n",
      "Loss: 2.109279, Train accuracy: 0.466667, val accuracy: 0.066667\n",
      "Loss: 1.689211, Train accuracy: 0.466667, val accuracy: 0.066667\n",
      "Loss: 1.676766, Train accuracy: 0.466667, val accuracy: 0.066667\n",
      "Loss: 1.943303, Train accuracy: 0.466667, val accuracy: 0.066667\n",
      "Loss: 1.628597, Train accuracy: 0.466667, val accuracy: 0.066667\n",
      "Loss: 1.771025, Train accuracy: 0.466667, val accuracy: 0.066667\n",
      "Loss: 1.813104, Train accuracy: 0.533333, val accuracy: 0.000000\n",
      "Loss: 1.884957, Train accuracy: 0.533333, val accuracy: 0.066667\n",
      "Loss: 2.134979, Train accuracy: 0.600000, val accuracy: 0.066667\n",
      "Loss: 2.088816, Train accuracy: 0.666667, val accuracy: 0.000000\n",
      "Loss: 1.730158, Train accuracy: 0.533333, val accuracy: 0.066667\n",
      "Loss: 1.595846, Train accuracy: 0.600000, val accuracy: 0.066667\n",
      "Loss: 1.690153, Train accuracy: 0.666667, val accuracy: 0.066667\n",
      "Loss: 1.551044, Train accuracy: 0.666667, val accuracy: 0.000000\n",
      "Loss: 0.898989, Train accuracy: 0.666667, val accuracy: 0.066667\n",
      "Loss: 1.576552, Train accuracy: 0.666667, val accuracy: 0.066667\n",
      "Loss: 1.623486, Train accuracy: 0.666667, val accuracy: 0.000000\n",
      "Loss: 1.341393, Train accuracy: 0.666667, val accuracy: 0.066667\n",
      "Loss: 1.264946, Train accuracy: 0.733333, val accuracy: 0.066667\n",
      "Loss: 1.408326, Train accuracy: 0.666667, val accuracy: 0.066667\n",
      "Loss: 1.464048, Train accuracy: 0.600000, val accuracy: 0.133333\n",
      "Loss: 1.704194, Train accuracy: 0.666667, val accuracy: 0.133333\n",
      "Loss: 1.253946, Train accuracy: 0.666667, val accuracy: 0.066667\n",
      "Loss: 1.255594, Train accuracy: 0.733333, val accuracy: 0.066667\n",
      "Loss: 1.340709, Train accuracy: 0.733333, val accuracy: 0.066667\n",
      "Loss: 1.434744, Train accuracy: 0.733333, val accuracy: 0.066667\n",
      "Loss: 2.023304, Train accuracy: 0.733333, val accuracy: 0.133333\n",
      "Loss: 0.979015, Train accuracy: 0.733333, val accuracy: 0.066667\n",
      "Loss: 2.027760, Train accuracy: 0.733333, val accuracy: 0.066667\n",
      "Loss: 0.898096, Train accuracy: 0.800000, val accuracy: 0.000000\n",
      "Loss: 1.640460, Train accuracy: 0.733333, val accuracy: 0.066667\n",
      "Loss: 1.486099, Train accuracy: 0.800000, val accuracy: 0.066667\n",
      "Loss: 1.559304, Train accuracy: 0.800000, val accuracy: 0.066667\n",
      "Loss: 1.399684, Train accuracy: 0.800000, val accuracy: 0.066667\n",
      "Loss: 1.402167, Train accuracy: 0.733333, val accuracy: 0.066667\n",
      "Loss: 1.256338, Train accuracy: 0.733333, val accuracy: 0.066667\n",
      "Loss: 1.334646, Train accuracy: 0.733333, val accuracy: 0.066667\n",
      "Loss: 1.663623, Train accuracy: 0.800000, val accuracy: 0.066667\n",
      "Loss: 1.633038, Train accuracy: 0.800000, val accuracy: 0.066667\n",
      "Loss: 1.379565, Train accuracy: 0.800000, val accuracy: 0.066667\n",
      "Loss: 1.627230, Train accuracy: 0.800000, val accuracy: 0.066667\n",
      "Loss: 1.668342, Train accuracy: 0.800000, val accuracy: 0.066667\n",
      "Loss: 1.287234, Train accuracy: 0.800000, val accuracy: 0.066667\n",
      "Loss: 1.526195, Train accuracy: 0.800000, val accuracy: 0.066667\n",
      "Loss: 1.147533, Train accuracy: 0.800000, val accuracy: 0.066667\n",
      "Loss: 1.225693, Train accuracy: 0.800000, val accuracy: 0.066667\n",
      "Loss: 1.921911, Train accuracy: 0.800000, val accuracy: 0.066667\n",
      "Loss: 1.399420, Train accuracy: 0.800000, val accuracy: 0.066667\n",
      "Loss: 1.290358, Train accuracy: 0.800000, val accuracy: 0.066667\n",
      "Loss: 1.201694, Train accuracy: 0.800000, val accuracy: 0.066667\n",
      "Loss: 1.131151, Train accuracy: 0.800000, val accuracy: 0.066667\n",
      "Loss: 1.283758, Train accuracy: 0.866667, val accuracy: 0.066667\n",
      "Loss: 1.357944, Train accuracy: 0.866667, val accuracy: 0.066667\n",
      "Loss: 1.080966, Train accuracy: 0.866667, val accuracy: 0.066667\n",
      "Loss: 1.211667, Train accuracy: 0.866667, val accuracy: 0.066667\n",
      "Loss: 1.310066, Train accuracy: 0.866667, val accuracy: 0.066667\n",
      "Loss: 0.932267, Train accuracy: 0.866667, val accuracy: 0.066667\n",
      "Loss: 1.318413, Train accuracy: 0.866667, val accuracy: 0.066667\n",
      "Loss: 1.586346, Train accuracy: 0.866667, val accuracy: 0.066667\n",
      "Loss: 1.028407, Train accuracy: 0.933333, val accuracy: 0.066667\n",
      "Loss: 1.534702, Train accuracy: 0.933333, val accuracy: 0.066667\n",
      "Loss: 1.971755, Train accuracy: 0.933333, val accuracy: 0.066667\n",
      "Loss: 1.760597, Train accuracy: 0.933333, val accuracy: 0.066667\n",
      "Loss: 1.606291, Train accuracy: 0.933333, val accuracy: 0.066667\n",
      "Loss: 1.394558, Train accuracy: 0.933333, val accuracy: 0.066667\n",
      "Loss: 1.214189, Train accuracy: 0.933333, val accuracy: 0.066667\n",
      "Loss: 1.729143, Train accuracy: 0.933333, val accuracy: 0.066667\n",
      "Loss: 1.862592, Train accuracy: 0.933333, val accuracy: 0.066667\n",
      "Loss: 1.666981, Train accuracy: 0.933333, val accuracy: 0.066667\n",
      "Loss: 1.523661, Train accuracy: 0.933333, val accuracy: 0.066667\n",
      "Loss: 1.275461, Train accuracy: 0.933333, val accuracy: 0.066667\n",
      "Loss: 1.872098, Train accuracy: 0.933333, val accuracy: 0.066667\n",
      "Loss: 1.623239, Train accuracy: 0.933333, val accuracy: 0.066667\n",
      "Loss: 1.188035, Train accuracy: 0.933333, val accuracy: 0.066667\n",
      "Loss: 1.257392, Train accuracy: 0.933333, val accuracy: 0.066667\n",
      "Loss: 1.053722, Train accuracy: 0.933333, val accuracy: 0.066667\n",
      "Loss: 1.194338, Train accuracy: 0.933333, val accuracy: 0.066667\n",
      "Loss: 1.019591, Train accuracy: 0.933333, val accuracy: 0.066667\n",
      "Loss: 1.843616, Train accuracy: 1.000000, val accuracy: 0.066667\n",
      "Loss: 1.312492, Train accuracy: 0.933333, val accuracy: 0.066667\n",
      "Loss: 1.284892, Train accuracy: 0.933333, val accuracy: 0.066667\n",
      "Loss: 1.449362, Train accuracy: 0.933333, val accuracy: 0.066667\n",
      "Loss: 1.601517, Train accuracy: 1.000000, val accuracy: 0.066667\n",
      "Loss: 1.419262, Train accuracy: 1.000000, val accuracy: 0.066667\n",
      "Loss: 1.268661, Train accuracy: 1.000000, val accuracy: 0.000000\n",
      "Loss: 1.317647, Train accuracy: 1.000000, val accuracy: 0.000000\n",
      "Loss: 1.379218, Train accuracy: 1.000000, val accuracy: 0.000000\n",
      "Loss: 1.114795, Train accuracy: 1.000000, val accuracy: 0.000000\n",
      "Loss: 1.176615, Train accuracy: 0.933333, val accuracy: 0.000000\n",
      "Loss: 1.129002, Train accuracy: 1.000000, val accuracy: 0.000000\n",
      "Loss: 1.406876, Train accuracy: 0.933333, val accuracy: 0.000000\n",
      "Loss: 1.500686, Train accuracy: 1.000000, val accuracy: 0.000000\n",
      "Loss: 1.551871, Train accuracy: 1.000000, val accuracy: 0.000000\n",
      "Loss: 1.598201, Train accuracy: 1.000000, val accuracy: 0.000000\n",
      "Loss: 1.179028, Train accuracy: 1.000000, val accuracy: 0.000000\n",
      "Loss: 1.226268, Train accuracy: 0.933333, val accuracy: 0.000000\n",
      "Loss: 1.308771, Train accuracy: 1.000000, val accuracy: 0.000000\n",
      "Loss: 1.227681, Train accuracy: 1.000000, val accuracy: 0.000000\n",
      "Loss: 1.560860, Train accuracy: 1.000000, val accuracy: 0.000000\n",
      "Loss: 1.218113, Train accuracy: 1.000000, val accuracy: 0.000000\n",
      "Loss: 1.281396, Train accuracy: 1.000000, val accuracy: 0.000000\n",
      "Loss: 1.404934, Train accuracy: 1.000000, val accuracy: 0.000000\n",
      "Loss: 1.427661, Train accuracy: 1.000000, val accuracy: 0.000000\n",
      "Loss: 1.337607, Train accuracy: 1.000000, val accuracy: 0.000000\n",
      "Loss: 1.093242, Train accuracy: 1.000000, val accuracy: 0.000000\n",
      "Loss: 1.202814, Train accuracy: 1.000000, val accuracy: 0.000000\n",
      "Loss: 1.205801, Train accuracy: 1.000000, val accuracy: 0.000000\n",
      "Loss: 1.118047, Train accuracy: 1.000000, val accuracy: 0.000000\n",
      "Loss: 1.305576, Train accuracy: 1.000000, val accuracy: 0.000000\n",
      "Loss: 1.188596, Train accuracy: 1.000000, val accuracy: 0.000000\n",
      "Loss: 1.306912, Train accuracy: 1.000000, val accuracy: 0.000000\n"
     ]
    },
    {
     "name": "stdout",
     "output_type": "stream",
     "text": [
      "Loss: 1.149234, Train accuracy: 1.000000, val accuracy: 0.000000\n",
      "Loss: 1.189256, Train accuracy: 1.000000, val accuracy: 0.000000\n",
      "Loss: 1.168980, Train accuracy: 1.000000, val accuracy: 0.000000\n",
      "Loss: 1.492293, Train accuracy: 1.000000, val accuracy: 0.000000\n",
      "Loss: 1.072785, Train accuracy: 1.000000, val accuracy: 0.000000\n",
      "Loss: 1.382982, Train accuracy: 1.000000, val accuracy: 0.000000\n",
      "Loss: 1.546748, Train accuracy: 1.000000, val accuracy: 0.000000\n",
      "Loss: 1.247645, Train accuracy: 1.000000, val accuracy: 0.000000\n",
      "Loss: 1.398664, Train accuracy: 1.000000, val accuracy: 0.000000\n",
      "Loss: 1.350665, Train accuracy: 1.000000, val accuracy: 0.000000\n",
      "Loss: 1.436692, Train accuracy: 1.000000, val accuracy: 0.000000\n",
      "Loss: 1.199931, Train accuracy: 1.000000, val accuracy: 0.000000\n",
      "Loss: 1.265730, Train accuracy: 1.000000, val accuracy: 0.000000\n",
      "Loss: 1.323854, Train accuracy: 1.000000, val accuracy: 0.000000\n",
      "Loss: 1.189928, Train accuracy: 1.000000, val accuracy: 0.000000\n"
     ]
    }
   ],
   "source": [
    "data_size = 15\n",
    "model = TwoLayerNet(n_input = train_X.shape[1], n_output = 10, hidden_layer_size = 100, reg = 1e-1)\n",
    "dataset = Dataset(train_X[:data_size], train_y[:data_size], val_X[:data_size], val_y[:data_size])\n",
    "trainer = Trainer(model, dataset, SGD(), learning_rate=1e-1, num_epochs=150, batch_size=5)\n",
    "\n",
    "# You should expect this to reach 1.0 training accuracy \n",
    "loss_history, train_history, val_history = trainer.fit()\n",
    "\n",
    "#model.py/metrics.py/optim.py"
   ]
  },
  {
   "cell_type": "markdown",
   "metadata": {},
   "source": [
    "## Подбор гиперпараметров"
   ]
  },
  {
   "cell_type": "code",
   "execution_count": 29,
   "metadata": {},
   "outputs": [
    {
     "name": "stdout",
     "output_type": "stream",
     "text": [
      "Loss: 2.343795, Train accuracy: 0.200000, val accuracy: 0.133333\n",
      "Loss: 2.335189, Train accuracy: 0.200000, val accuracy: 0.133333\n",
      "Loss: 2.332387, Train accuracy: 0.200000, val accuracy: 0.133333\n",
      "Loss: 2.296897, Train accuracy: 0.200000, val accuracy: 0.133333\n",
      "Loss: 2.327147, Train accuracy: 0.200000, val accuracy: 0.133333\n",
      "Loss: 2.299080, Train accuracy: 0.200000, val accuracy: 0.066667\n",
      "Loss: 2.300755, Train accuracy: 0.200000, val accuracy: 0.133333\n",
      "Loss: 2.250714, Train accuracy: 0.200000, val accuracy: 0.066667\n",
      "Loss: 2.206018, Train accuracy: 0.333333, val accuracy: 0.000000\n",
      "Loss: 2.080976, Train accuracy: 0.400000, val accuracy: 0.000000\n",
      "Loss: 2.040819, Train accuracy: 0.400000, val accuracy: 0.000000\n",
      "Loss: 2.170397, Train accuracy: 0.400000, val accuracy: 0.000000\n",
      "Loss: 2.150772, Train accuracy: 0.400000, val accuracy: 0.000000\n",
      "Loss: 1.784525, Train accuracy: 0.333333, val accuracy: 0.000000\n",
      "Loss: 2.465388, Train accuracy: 0.333333, val accuracy: 0.000000\n",
      "Loss: 1.665627, Train accuracy: 0.333333, val accuracy: 0.000000\n",
      "Loss: 2.181482, Train accuracy: 0.400000, val accuracy: 0.000000\n",
      "Loss: 1.640445, Train accuracy: 0.400000, val accuracy: 0.000000\n",
      "Loss: 1.733409, Train accuracy: 0.400000, val accuracy: 0.000000\n",
      "Loss: 1.575550, Train accuracy: 0.400000, val accuracy: 0.000000\n"
     ]
    }
   ],
   "source": [
    "# Now, tweak some hyper parameters and make it train to 1.0 accuracy in 20 epochs or less\n",
    "\n",
    "model = TwoLayerNet(n_input = train_X.shape[1], n_output = 10, hidden_layer_size = 100, reg = 1e-1)\n",
    "dataset = Dataset(train_X[:data_size], train_y[:data_size], val_X[:data_size], val_y[:data_size])\n",
    "trainer = Trainer(model, dataset, SGD(), learning_rate=1e-1, num_epochs=20, batch_size=5)\n",
    "\n",
    "loss_history, train_history, val_history = trainer.fit()"
   ]
  },
  {
   "cell_type": "code",
   "execution_count": 31,
   "metadata": {
    "scrolled": true
   },
   "outputs": [
    {
     "name": "stdout",
     "output_type": "stream",
     "text": [
      "Loss: 2.302544, Train accuracy: 0.077000, val accuracy: 0.078000\n",
      "Loss: 2.302596, Train accuracy: 0.193667, val accuracy: 0.204000\n",
      "Loss: 2.302199, Train accuracy: 0.196667, val accuracy: 0.206000\n",
      "Loss: 2.301464, Train accuracy: 0.196667, val accuracy: 0.206000\n",
      "Loss: 2.301374, Train accuracy: 0.196667, val accuracy: 0.206000\n",
      "Loss: 2.301646, Train accuracy: 0.196667, val accuracy: 0.206000\n",
      "Loss: 2.301090, Train accuracy: 0.196667, val accuracy: 0.206000\n",
      "Loss: 2.301504, Train accuracy: 0.196667, val accuracy: 0.206000\n",
      "Loss: 2.300259, Train accuracy: 0.196667, val accuracy: 0.206000\n",
      "Loss: 2.301779, Train accuracy: 0.196667, val accuracy: 0.206000\n",
      "Loss: 2.301069, Train accuracy: 0.196667, val accuracy: 0.206000\n",
      "Loss: 2.299484, Train accuracy: 0.196667, val accuracy: 0.206000\n",
      "Loss: 2.301234, Train accuracy: 0.196667, val accuracy: 0.206000\n",
      "Loss: 2.298077, Train accuracy: 0.196667, val accuracy: 0.206000\n",
      "Loss: 2.300449, Train accuracy: 0.196667, val accuracy: 0.206000\n",
      "Loss: 2.299050, Train accuracy: 0.196667, val accuracy: 0.206000\n",
      "Loss: 2.300888, Train accuracy: 0.196667, val accuracy: 0.206000\n",
      "Loss: 2.299125, Train accuracy: 0.196667, val accuracy: 0.206000\n",
      "Loss: 2.301022, Train accuracy: 0.196667, val accuracy: 0.206000\n",
      "Loss: 2.299452, Train accuracy: 0.196667, val accuracy: 0.206000\n",
      "Loss: 2.297772, Train accuracy: 0.196667, val accuracy: 0.206000\n",
      "Loss: 2.293022, Train accuracy: 0.196667, val accuracy: 0.206000\n",
      "Loss: 2.298543, Train accuracy: 0.196667, val accuracy: 0.206000\n",
      "Loss: 2.296681, Train accuracy: 0.196667, val accuracy: 0.206000\n",
      "Loss: 2.296087, Train accuracy: 0.196667, val accuracy: 0.206000\n",
      "Loss: 2.292540, Train accuracy: 0.196667, val accuracy: 0.206000\n",
      "Loss: 2.295392, Train accuracy: 0.196667, val accuracy: 0.206000\n",
      "Loss: 2.294263, Train accuracy: 0.196667, val accuracy: 0.206000\n",
      "Loss: 2.291945, Train accuracy: 0.196667, val accuracy: 0.206000\n",
      "Loss: 2.301614, Train accuracy: 0.196667, val accuracy: 0.206000\n",
      "Loss: 2.295358, Train accuracy: 0.196667, val accuracy: 0.206000\n",
      "Loss: 2.294888, Train accuracy: 0.196667, val accuracy: 0.206000\n",
      "Loss: 2.293147, Train accuracy: 0.196667, val accuracy: 0.206000\n",
      "Loss: 2.302564, Train accuracy: 0.196667, val accuracy: 0.206000\n",
      "Loss: 2.300742, Train accuracy: 0.196667, val accuracy: 0.206000\n",
      "Loss: 2.299366, Train accuracy: 0.196667, val accuracy: 0.206000\n",
      "Loss: 2.298420, Train accuracy: 0.196667, val accuracy: 0.206000\n",
      "Loss: 2.299979, Train accuracy: 0.196667, val accuracy: 0.206000\n",
      "Loss: 2.297920, Train accuracy: 0.196667, val accuracy: 0.206000\n",
      "Loss: 2.288009, Train accuracy: 0.196667, val accuracy: 0.206000\n",
      "Loss: 2.299561, Train accuracy: 0.196667, val accuracy: 0.206000\n",
      "Loss: 2.299619, Train accuracy: 0.196667, val accuracy: 0.206000\n",
      "Loss: 2.297112, Train accuracy: 0.196667, val accuracy: 0.206000\n",
      "Loss: 2.293347, Train accuracy: 0.196667, val accuracy: 0.206000\n",
      "Loss: 2.294926, Train accuracy: 0.196667, val accuracy: 0.206000\n",
      "Loss: 2.288526, Train accuracy: 0.196667, val accuracy: 0.206000\n",
      "Loss: 2.298033, Train accuracy: 0.196667, val accuracy: 0.206000\n",
      "Loss: 2.279660, Train accuracy: 0.196667, val accuracy: 0.206000\n",
      "Loss: 2.296981, Train accuracy: 0.196667, val accuracy: 0.206000\n",
      "Loss: 2.294832, Train accuracy: 0.196667, val accuracy: 0.206000\n",
      "Loss: 2.276019, Train accuracy: 0.196667, val accuracy: 0.206000\n",
      "Loss: 2.294873, Train accuracy: 0.196667, val accuracy: 0.206000\n",
      "Loss: 2.294221, Train accuracy: 0.196667, val accuracy: 0.206000\n",
      "Loss: 2.295985, Train accuracy: 0.196667, val accuracy: 0.206000\n",
      "Loss: 2.294633, Train accuracy: 0.196667, val accuracy: 0.206000\n",
      "Loss: 2.298043, Train accuracy: 0.196667, val accuracy: 0.206000\n",
      "Loss: 2.282489, Train accuracy: 0.196667, val accuracy: 0.206000\n",
      "Loss: 2.292483, Train accuracy: 0.196667, val accuracy: 0.206000\n",
      "Loss: 2.294164, Train accuracy: 0.196667, val accuracy: 0.206000\n",
      "Loss: 2.289722, Train accuracy: 0.196667, val accuracy: 0.206000\n",
      "Loss: 2.298239, Train accuracy: 0.196667, val accuracy: 0.206000\n",
      "Loss: 2.279918, Train accuracy: 0.196667, val accuracy: 0.206000\n",
      "Loss: 2.291000, Train accuracy: 0.196667, val accuracy: 0.206000\n",
      "Loss: 2.299193, Train accuracy: 0.196667, val accuracy: 0.206000\n",
      "Loss: 2.283668, Train accuracy: 0.196667, val accuracy: 0.206000\n",
      "Loss: 2.286485, Train accuracy: 0.196667, val accuracy: 0.206000\n",
      "Loss: 2.269856, Train accuracy: 0.196667, val accuracy: 0.206000\n",
      "Loss: 2.289689, Train accuracy: 0.196667, val accuracy: 0.206000\n",
      "Loss: 2.290886, Train accuracy: 0.196667, val accuracy: 0.206000\n",
      "Loss: 2.281848, Train accuracy: 0.196667, val accuracy: 0.206000\n",
      "Loss: 2.287309, Train accuracy: 0.196667, val accuracy: 0.206000\n",
      "Loss: 2.285697, Train accuracy: 0.196667, val accuracy: 0.206000\n",
      "Loss: 2.285175, Train accuracy: 0.196667, val accuracy: 0.206000\n",
      "Loss: 2.285788, Train accuracy: 0.196667, val accuracy: 0.206000\n",
      "Loss: 2.282489, Train accuracy: 0.196667, val accuracy: 0.206000\n",
      "Loss: 2.286593, Train accuracy: 0.196667, val accuracy: 0.206000\n",
      "Loss: 2.299929, Train accuracy: 0.196667, val accuracy: 0.206000\n",
      "Loss: 2.272194, Train accuracy: 0.196667, val accuracy: 0.206000\n",
      "Loss: 2.287523, Train accuracy: 0.196667, val accuracy: 0.206000\n",
      "Loss: 2.274780, Train accuracy: 0.196667, val accuracy: 0.206000\n",
      "Loss: 2.283190, Train accuracy: 0.196667, val accuracy: 0.206000\n",
      "Loss: 2.280918, Train accuracy: 0.196667, val accuracy: 0.206000\n",
      "Loss: 2.273986, Train accuracy: 0.196667, val accuracy: 0.206000\n",
      "Loss: 2.281080, Train accuracy: 0.196667, val accuracy: 0.206000\n",
      "Loss: 2.299520, Train accuracy: 0.196667, val accuracy: 0.206000\n",
      "Loss: 2.287403, Train accuracy: 0.196667, val accuracy: 0.206000\n",
      "Loss: 2.293634, Train accuracy: 0.196667, val accuracy: 0.206000\n",
      "Loss: 2.292905, Train accuracy: 0.196667, val accuracy: 0.206000\n",
      "Loss: 2.289408, Train accuracy: 0.196667, val accuracy: 0.206000\n",
      "Loss: 2.269455, Train accuracy: 0.196667, val accuracy: 0.206000\n",
      "Loss: 2.278439, Train accuracy: 0.196667, val accuracy: 0.206000\n",
      "Loss: 2.276457, Train accuracy: 0.196667, val accuracy: 0.206000\n",
      "Loss: 2.287015, Train accuracy: 0.196667, val accuracy: 0.206000\n",
      "Loss: 2.297300, Train accuracy: 0.196667, val accuracy: 0.206000\n",
      "Loss: 2.294212, Train accuracy: 0.196667, val accuracy: 0.206000\n",
      "Loss: 2.281081, Train accuracy: 0.196667, val accuracy: 0.206000\n",
      "Loss: 2.288730, Train accuracy: 0.196667, val accuracy: 0.206000\n",
      "Loss: 2.272713, Train accuracy: 0.196667, val accuracy: 0.206000\n",
      "Loss: 2.301745, Train accuracy: 0.196667, val accuracy: 0.206000\n",
      "Loss: 2.287308, Train accuracy: 0.196667, val accuracy: 0.206000\n",
      "Loss: 2.273839, Train accuracy: 0.196667, val accuracy: 0.206000\n",
      "Loss: 2.293608, Train accuracy: 0.196667, val accuracy: 0.206000\n",
      "Loss: 2.280053, Train accuracy: 0.196667, val accuracy: 0.206000\n",
      "Loss: 2.294042, Train accuracy: 0.196667, val accuracy: 0.206000\n",
      "Loss: 2.282923, Train accuracy: 0.196667, val accuracy: 0.206000\n",
      "Loss: 2.269104, Train accuracy: 0.196667, val accuracy: 0.206000\n",
      "Loss: 2.285030, Train accuracy: 0.196667, val accuracy: 0.206000\n",
      "Loss: 2.261899, Train accuracy: 0.196667, val accuracy: 0.206000\n",
      "Loss: 2.274830, Train accuracy: 0.196667, val accuracy: 0.206000\n",
      "Loss: 2.285336, Train accuracy: 0.196667, val accuracy: 0.206000\n",
      "Loss: 2.286366, Train accuracy: 0.196667, val accuracy: 0.206000\n",
      "Loss: 2.288578, Train accuracy: 0.196667, val accuracy: 0.206000\n",
      "Loss: 2.278352, Train accuracy: 0.196667, val accuracy: 0.206000\n",
      "Loss: 2.272822, Train accuracy: 0.196667, val accuracy: 0.206000\n",
      "Loss: 2.269680, Train accuracy: 0.196667, val accuracy: 0.206000\n",
      "Loss: 2.280022, Train accuracy: 0.196667, val accuracy: 0.206000\n",
      "Loss: 2.290470, Train accuracy: 0.196667, val accuracy: 0.206000\n",
      "Loss: 2.263144, Train accuracy: 0.196667, val accuracy: 0.206000\n",
      "Loss: 2.279861, Train accuracy: 0.196667, val accuracy: 0.206000\n",
      "Loss: 2.285617, Train accuracy: 0.196667, val accuracy: 0.206000\n",
      "Loss: 2.281874, Train accuracy: 0.196667, val accuracy: 0.206000\n",
      "Loss: 2.265243, Train accuracy: 0.196667, val accuracy: 0.206000\n",
      "Loss: 2.290360, Train accuracy: 0.196667, val accuracy: 0.206000\n",
      "Loss: 2.271502, Train accuracy: 0.196667, val accuracy: 0.206000\n",
      "Loss: 2.269280, Train accuracy: 0.196667, val accuracy: 0.206000\n",
      "Loss: 2.274407, Train accuracy: 0.196667, val accuracy: 0.206000\n",
      "Loss: 2.278161, Train accuracy: 0.196667, val accuracy: 0.206000\n"
     ]
    },
    {
     "name": "stdout",
     "output_type": "stream",
     "text": [
      "Loss: 2.294140, Train accuracy: 0.196667, val accuracy: 0.206000\n",
      "Loss: 2.281796, Train accuracy: 0.196667, val accuracy: 0.206000\n",
      "Loss: 2.271960, Train accuracy: 0.196667, val accuracy: 0.206000\n",
      "Loss: 2.289336, Train accuracy: 0.196667, val accuracy: 0.206000\n",
      "Loss: 2.286378, Train accuracy: 0.196667, val accuracy: 0.206000\n",
      "Loss: 2.303881, Train accuracy: 0.196667, val accuracy: 0.206000\n",
      "Loss: 2.278980, Train accuracy: 0.196667, val accuracy: 0.206000\n",
      "Loss: 2.281212, Train accuracy: 0.196667, val accuracy: 0.206000\n",
      "Loss: 2.285344, Train accuracy: 0.196667, val accuracy: 0.206000\n",
      "Loss: 2.277575, Train accuracy: 0.196667, val accuracy: 0.206000\n",
      "Loss: 2.285148, Train accuracy: 0.196667, val accuracy: 0.206000\n",
      "Loss: 2.272369, Train accuracy: 0.196667, val accuracy: 0.206000\n",
      "Loss: 2.278382, Train accuracy: 0.196667, val accuracy: 0.206000\n",
      "Loss: 2.275291, Train accuracy: 0.196667, val accuracy: 0.206000\n",
      "Loss: 2.266817, Train accuracy: 0.196667, val accuracy: 0.206000\n",
      "Loss: 2.274101, Train accuracy: 0.196667, val accuracy: 0.206000\n",
      "Loss: 2.289575, Train accuracy: 0.196667, val accuracy: 0.206000\n",
      "Loss: 2.291220, Train accuracy: 0.196667, val accuracy: 0.206000\n",
      "Loss: 2.301583, Train accuracy: 0.196667, val accuracy: 0.206000\n",
      "Loss: 2.280535, Train accuracy: 0.196667, val accuracy: 0.206000\n",
      "Loss: 2.266041, Train accuracy: 0.196667, val accuracy: 0.206000\n",
      "Loss: 2.270083, Train accuracy: 0.196667, val accuracy: 0.206000\n",
      "Loss: 2.292405, Train accuracy: 0.196667, val accuracy: 0.206000\n",
      "Loss: 2.266886, Train accuracy: 0.196667, val accuracy: 0.206000\n",
      "Loss: 2.245980, Train accuracy: 0.196667, val accuracy: 0.206000\n",
      "Loss: 2.280971, Train accuracy: 0.196667, val accuracy: 0.206000\n",
      "Loss: 2.268655, Train accuracy: 0.196667, val accuracy: 0.206000\n",
      "Loss: 2.270382, Train accuracy: 0.196667, val accuracy: 0.206000\n",
      "Loss: 2.273080, Train accuracy: 0.196667, val accuracy: 0.206000\n",
      "Loss: 2.281677, Train accuracy: 0.196667, val accuracy: 0.206000\n",
      "Loss: 2.253968, Train accuracy: 0.196667, val accuracy: 0.206000\n",
      "Loss: 2.267135, Train accuracy: 0.196667, val accuracy: 0.206000\n",
      "Loss: 2.282908, Train accuracy: 0.196667, val accuracy: 0.206000\n",
      "Loss: 2.254830, Train accuracy: 0.196667, val accuracy: 0.206000\n",
      "Loss: 2.254307, Train accuracy: 0.196667, val accuracy: 0.206000\n",
      "Loss: 2.288829, Train accuracy: 0.196667, val accuracy: 0.206000\n",
      "Loss: 2.257065, Train accuracy: 0.196667, val accuracy: 0.206000\n",
      "Loss: 2.265915, Train accuracy: 0.196667, val accuracy: 0.206000\n",
      "Loss: 2.292519, Train accuracy: 0.196667, val accuracy: 0.206000\n",
      "Loss: 2.270428, Train accuracy: 0.196667, val accuracy: 0.206000\n",
      "Loss: 2.274276, Train accuracy: 0.196667, val accuracy: 0.206000\n",
      "Loss: 2.270289, Train accuracy: 0.196667, val accuracy: 0.206000\n",
      "Loss: 2.260874, Train accuracy: 0.196667, val accuracy: 0.206000\n",
      "Loss: 2.271334, Train accuracy: 0.196667, val accuracy: 0.206000\n",
      "Loss: 2.258049, Train accuracy: 0.196667, val accuracy: 0.206000\n",
      "Loss: 2.284491, Train accuracy: 0.196667, val accuracy: 0.206000\n",
      "Loss: 2.271817, Train accuracy: 0.196667, val accuracy: 0.206000\n",
      "Loss: 2.279416, Train accuracy: 0.196667, val accuracy: 0.206000\n",
      "Loss: 2.272797, Train accuracy: 0.196667, val accuracy: 0.206000\n",
      "Loss: 2.288902, Train accuracy: 0.196667, val accuracy: 0.206000\n",
      "Loss: 2.260033, Train accuracy: 0.196667, val accuracy: 0.206000\n",
      "Loss: 2.287673, Train accuracy: 0.196667, val accuracy: 0.206000\n",
      "Loss: 2.250798, Train accuracy: 0.196667, val accuracy: 0.206000\n",
      "Loss: 2.279271, Train accuracy: 0.196667, val accuracy: 0.206000\n",
      "Loss: 2.268038, Train accuracy: 0.196667, val accuracy: 0.206000\n",
      "Loss: 2.266361, Train accuracy: 0.196667, val accuracy: 0.206000\n",
      "Loss: 2.287911, Train accuracy: 0.196667, val accuracy: 0.206000\n",
      "Loss: 2.268871, Train accuracy: 0.196667, val accuracy: 0.206000\n",
      "Loss: 2.274527, Train accuracy: 0.196667, val accuracy: 0.206000\n",
      "Loss: 2.275191, Train accuracy: 0.196667, val accuracy: 0.206000\n",
      "Loss: 2.278495, Train accuracy: 0.196667, val accuracy: 0.206000\n",
      "Loss: 2.284903, Train accuracy: 0.196667, val accuracy: 0.206000\n",
      "Loss: 2.223885, Train accuracy: 0.196667, val accuracy: 0.206000\n",
      "Loss: 2.254685, Train accuracy: 0.196667, val accuracy: 0.206000\n",
      "Loss: 2.272256, Train accuracy: 0.196667, val accuracy: 0.206000\n",
      "Loss: 2.277279, Train accuracy: 0.196667, val accuracy: 0.206000\n",
      "Loss: 2.268010, Train accuracy: 0.196667, val accuracy: 0.206000\n",
      "Loss: 2.306944, Train accuracy: 0.196667, val accuracy: 0.206000\n",
      "Loss: 2.270408, Train accuracy: 0.196667, val accuracy: 0.206000\n",
      "Loss: 2.233916, Train accuracy: 0.196667, val accuracy: 0.206000\n",
      "Loss: 2.301125, Train accuracy: 0.196667, val accuracy: 0.206000\n",
      "Loss: 2.309732, Train accuracy: 0.196667, val accuracy: 0.206000\n",
      "Loss: 2.294196, Train accuracy: 0.196667, val accuracy: 0.206000\n"
     ]
    }
   ],
   "source": [
    "# Let's train the best one-hidden-layer network we can\n",
    "\n",
    "learning_rates = 1e-4\n",
    "reg_strength = 1e-3\n",
    "learning_rate_decay = 0.999\n",
    "hidden_layer_size = 128\n",
    "num_epochs = 200\n",
    "batch_size = 64\n",
    "\n",
    "best_classifier = None\n",
    "best_val_accuracy = None\n",
    "\n",
    "loss_history = []\n",
    "train_history = []\n",
    "val_history = []\n",
    "\n",
    "model = TwoLayerNet(n_input = train_X.shape[1], n_output = 10, hidden_layer_size = hidden_layer_size, \n",
    "                    reg = reg_strength)\n",
    "dataset = Dataset(train_X, train_y, val_X, val_y)\n",
    "trainer = Trainer(model, dataset, SGD(), learning_rate=learning_rates, num_epochs=num_epochs, \n",
    "                  batch_size=batch_size, learning_rate_decay=learning_rate_decay)\n",
    "\n",
    "loss_history, train_history, val_history = trainer.fit()\n",
    "\n",
    "#print('best validation accuracy achieved: %f' % best_val_accuracy)"
   ]
  },
  {
   "cell_type": "code",
   "execution_count": 32,
   "metadata": {},
   "outputs": [
    {
     "data": {
      "text/plain": [
       "[<matplotlib.lines.Line2D at 0x7fa9d49b4c10>]"
      ]
     },
     "execution_count": 32,
     "metadata": {},
     "output_type": "execute_result"
    },
    {
     "data": {
      "image/png": "[encoded data removed]",
      "text/plain": [
       "<Figure size 1080x504 with 2 Axes>"
      ]
     },
     "metadata": {
      "needs_background": "light"
     },
     "output_type": "display_data"
    }
   ],
   "source": [
    "plt.figure(figsize=(15, 7))\n",
    "plt.subplot(211)\n",
    "plt.title(\"Loss\")\n",
    "plt.plot(loss_history)\n",
    "plt.subplot(212)\n",
    "plt.title(\"Train/validation accuracy\")\n",
    "plt.plot(train_history)\n",
    "plt.plot(val_history)"
   ]
  },
  {
   "cell_type": "markdown",
   "metadata": {},
   "source": [
    "# Лучшая модель на тестовых данных"
   ]
  },
  {
   "cell_type": "code",
   "execution_count": 34,
   "metadata": {},
   "outputs": [
    {
     "name": "stdout",
     "output_type": "stream",
     "text": [
      "Neural net test set accuracy: 0.182000\n"
     ]
    }
   ],
   "source": [
    "test_pred = model.predict(test_X)\n",
    "test_accuracy = multiclass_accuracy(test_pred, test_y)\n",
    "print('Neural net test set accuracy: %f' % (test_accuracy, ))"
   ]
  }
 ],
 "metadata": {
  "kernelspec": {
   "display_name": "Python 3",
   "language": "python",
   "name": "python3"
  },
  "language_info": {
   "codemirror_mode": {
    "name": "ipython",
    "version": 3
   },
   "file_extension": ".py",
   "mimetype": "text/x-python",
   "name": "python",
   "nbconvert_exporter": "python",
   "pygments_lexer": "ipython3",
   "version": "3.7.4"
  }
 },
 "nbformat": 4,
 "nbformat_minor": 2
}
